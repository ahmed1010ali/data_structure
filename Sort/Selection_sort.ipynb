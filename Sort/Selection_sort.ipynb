{
 "cells": [
  {
   "cell_type": "code",
   "execution_count": 2,
   "id": "8320e3f9-38b9-405b-ad05-17707dc39258",
   "metadata": {},
   "outputs": [],
   "source": [
    "def selection_sort (l):\n",
    "    for i in range(len(l)):\n",
    "        index_min = i \n",
    "        for j in range (i, len(l)):\n",
    "            if l[j] < l[index_min]:\n",
    "                index_min = j \n",
    "        l[index_min], l[i]= l[i], l[index_min]"
   ]
  },
  {
   "cell_type": "code",
   "execution_count": 3,
   "id": "da690e1c-1c25-4da8-97f7-2db1f72702b7",
   "metadata": {},
   "outputs": [
    {
     "name": "stdout",
     "output_type": "stream",
     "text": [
      "array is  [64, 25, 12, 22, 11]\n",
      "Sorted array is: [11, 12, 22, 25, 64]\n"
     ]
    }
   ],
   "source": [
    "arr = [64, 25, 12, 22, 11]\n",
    "print (\"array is \", arr)\n",
    "selection_sort(arr)\n",
    "print(\"Sorted array is:\", arr)\n"
   ]
  },
  {
   "cell_type": "code",
   "execution_count": null,
   "id": "5196c004-24b3-42d9-ab0f-b7512fe8f698",
   "metadata": {},
   "outputs": [],
   "source": []
  },
  {
   "cell_type": "code",
   "execution_count": null,
   "id": "9e1c4296",
   "metadata": {},
   "outputs": [],
   "source": []
  },
  {
   "cell_type": "code",
   "execution_count": null,
   "id": "a295f576",
   "metadata": {},
   "outputs": [],
   "source": []
  }
 ],
 "metadata": {
  "kernelspec": {
   "display_name": "Python 3",
   "language": "python",
   "name": "python3"
  },
  "language_info": {
   "codemirror_mode": {
    "name": "ipython",
    "version": 3
   },
   "file_extension": ".py",
   "mimetype": "text/x-python",
   "name": "python",
   "nbconvert_exporter": "python",
   "pygments_lexer": "ipython3",
   "version": "3.11.5"
  }
 },
 "nbformat": 4,
 "nbformat_minor": 5
}
