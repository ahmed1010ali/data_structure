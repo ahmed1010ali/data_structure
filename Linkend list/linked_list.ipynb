{
 "cells": [
  {
   "cell_type": "code",
   "execution_count": 23,
   "id": "1723aa45-e0af-4217-8a23-5c0ef52a9ae2",
   "metadata": {},
   "outputs": [],
   "source": [
    "class Linkedlist :\n",
    "    def __init__ (self, value, next= None):\n",
    "        self.value = value \n",
    "        self.next = next \n",
    "\n",
    "def print_list (head):\n",
    "    p = head\n",
    "    while p != None:\n",
    "        print (p.value)\n",
    "        p= p.next\n",
    "\n",
    "def append_element (head, value):\n",
    "    node = Linkedlist(value)\n",
    "    if head == None :\n",
    "        head = node \n",
    "    else :\n",
    "        p = head\n",
    "        while p.next != None:\n",
    "            p = p.next\n",
    "        p.next = node\n",
    "    return head\n",
    "    \n",
    "\n",
    "\n",
    "node1 = Linkedlist(4)\n",
    "node2 = Linkedlist(1)\n",
    "node3 = Linkedlist(5)\n",
    "node4 = Linkedlist(10)\n",
    "node1.next = node2\n",
    "node2.next = node3\n",
    "node3.next = node4\n",
    "\n",
    "head =node1\n"
   ]
  },
  {
   "cell_type": "code",
   "execution_count": 15,
   "id": "99ab8750-605b-4278-a027-368a0c7fcccc",
   "metadata": {},
   "outputs": [
    {
     "data": {
      "text/plain": [
       "4"
      ]
     },
     "execution_count": 15,
     "metadata": {},
     "output_type": "execute_result"
    }
   ],
   "source": [
    "head.value"
   ]
  },
  {
   "cell_type": "code",
   "execution_count": 17,
   "id": "458ebc85-716c-4a95-9848-af1be17f339e",
   "metadata": {},
   "outputs": [
    {
     "name": "stdout",
     "output_type": "stream",
     "text": [
      "4\n",
      "1\n",
      "5\n",
      "10\n"
     ]
    }
   ],
   "source": [
    "print_list(head)"
   ]
  },
  {
   "cell_type": "code",
   "execution_count": 27,
   "id": "207d60b3-f5aa-4f2f-b7c7-4369f5137a6a",
   "metadata": {},
   "outputs": [
    {
     "name": "stdout",
     "output_type": "stream",
     "text": [
      "<__main__.Linkedlist object at 0x00000178A6B82870>\n"
     ]
    }
   ],
   "source": [
    "print(append_element(head, 5))"
   ]
  },
  {
   "cell_type": "code",
   "execution_count": 29,
   "id": "7404a528-9b66-45df-b46f-e7d9cfbcf197",
   "metadata": {},
   "outputs": [
    {
     "name": "stdout",
     "output_type": "stream",
     "text": [
      "4\n",
      "1\n",
      "5\n",
      "10\n",
      "5\n",
      "5\n"
     ]
    }
   ],
   "source": [
    "print_list(head)"
   ]
  },
  {
   "cell_type": "code",
   "execution_count": null,
   "id": "69c28127-7068-4b4c-804f-e5c80d934528",
   "metadata": {},
   "outputs": [],
   "source": []
  }
 ],
 "metadata": {
  "kernelspec": {
   "display_name": "Python 3 (ipykernel)",
   "language": "python",
   "name": "python3"
  },
  "language_info": {
   "codemirror_mode": {
    "name": "ipython",
    "version": 3
   },
   "file_extension": ".py",
   "mimetype": "text/x-python",
   "name": "python",
   "nbconvert_exporter": "python",
   "pygments_lexer": "ipython3",
   "version": "3.12.4"
  }
 },
 "nbformat": 4,
 "nbformat_minor": 5
}
